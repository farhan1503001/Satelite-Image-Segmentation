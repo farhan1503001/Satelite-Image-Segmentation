{
  "nbformat": 4,
  "nbformat_minor": 0,
  "metadata": {
    "colab": {
      "name": "DeepLabV3+ ResNet Backend.ipynb",
      "provenance": [],
      "collapsed_sections": [],
      "authorship_tag": "ABX9TyOApnsdTmCrvBIxD0QT/3ou",
      "include_colab_link": true
    },
    "kernelspec": {
      "name": "python3",
      "display_name": "Python 3"
    },
    "language_info": {
      "name": "python"
    }
  },
  "cells": [
    {
      "cell_type": "markdown",
      "metadata": {
        "id": "view-in-github",
        "colab_type": "text"
      },
      "source": [
        "<a href=\"https://colab.research.google.com/github/farhan1503001/Satelite-Image-Segmentation/blob/main/DeepLabV3%2B_ResNet_Backend.ipynb\" target=\"_parent\"><img src=\"https://colab.research.google.com/assets/colab-badge.svg\" alt=\"Open In Colab\"/></a>"
      ]
    },
    {
      "cell_type": "code",
      "execution_count": 18,
      "metadata": {
        "id": "b63asY-bREmm"
      },
      "outputs": [],
      "source": [
        "from tensorflow.keras.layers import  Conv2D,BatchNormalization,UpSampling2D,Concatenate,Activation,AveragePooling2D\n",
        "import os\n",
        "from tensorflow.keras.layers import Input,Conv2DTranspose\n",
        "from tensorflow.keras.applications import ResNet50\n",
        "from tensorflow.keras.models import Model"
      ]
    },
    {
      "cell_type": "code",
      "source": [
        "#Pyramid pooling aspp\n",
        "#image_pooling->1d conv-->dilated conv with b8=>16=>32\n",
        "def ASPP(inputs):\n",
        "  #First entire shape pooling\n",
        "  shape=inputs.shape\n",
        "  y_pool=AveragePooling2D(pool_size=(shape[1],shape[2]),name='average_pooling')(inputs)\n",
        "  y_pool=Conv2D(filters=256,kernel_size=1,use_bias=False,padding='same')(y_pool)\n",
        "  y_pool=BatchNormalization()(y_pool)\n",
        "  y_pool=Activation(activation='relu')(y_pool)\n",
        "  y_pool=UpSampling2D(size=(shape[1],shape[2]),interpolation='bilinear')(y_pool)\n",
        "  #print(y_pool.shape)\n",
        "\n",
        "  #Now 1-d Channelwise convolution\n",
        "  y_1=Conv2D(filters=256,kernel_size=1,use_bias=False,padding='same',dilation_rate=1)(inputs)\n",
        "  y_1=BatchNormalization()(y_1)\n",
        "  y_1=Activation(activation='relu')(y_1)\n",
        "  #Now with dilationrate=6\n",
        "  y_6=Conv2D(filters=256,kernel_size=3,use_bias=False,padding='same',dilation_rate=6)(inputs)\n",
        "  y_6=BatchNormalization()(y_6)\n",
        "  y_6=Activation(activation='relu')(y_6)\n",
        "\n",
        "  #Now with dilationrate=12\n",
        "  y_12=Conv2D(filters=256,kernel_size=3,use_bias=False,padding='same',dilation_rate=12)(inputs)\n",
        "  y_12=BatchNormalization()(y_12)\n",
        "  y_12=Activation(activation='relu')(y_12)\n",
        "\n",
        "  #Now with dilation rate=18\n",
        "  y_18=Conv2D(filters=256,kernel_size=3,use_bias=False,padding='same',dilation_rate=18)(inputs)\n",
        "  y_18=BatchNormalization()(y_18)\n",
        "  y_18=Activation(activation='relu')(y_18)\n",
        "\n",
        "  y=Concatenate()([y_pool,y_1,y_6,y_12,y_18])\n",
        "  #1-d convolution application\n",
        "  y=Conv2D(filters=256,kernel_size=1,padding='same',dilation_rate=1,use_bias=False)(y)\n",
        "  y=BatchNormalization()(y)\n",
        "  y=Activation(activation='relu')(y)\n",
        "  print(y.shape)\n",
        "  return y\n"
      ],
      "metadata": {
        "id": "681PwJerwLUn"
      },
      "execution_count": 24,
      "outputs": []
    },
    {
      "cell_type": "code",
      "source": [
        "def DeepLabv3plus(shape):\n",
        "  \"\"\"\n",
        "  input shape is given as a tuple generate a deeplabv3 model\n",
        "  \"\"\"\n",
        "  input=Input(shape)\n",
        "  base_model=ResNet50(include_top=False,weights='imagenet',input_tensor=input)\n",
        "\n",
        "  image_features=base_model.get_layer('conv4_block6_out').output\n",
        "\n",
        "  #Now we will perform atrous asymmetric pyramid pooling\n",
        "  x_a=ASPP(image_features)\n",
        "  x_a=UpSampling2D(size=(4,4),interpolation='bilinear')(x_a)\n",
        "  #Now we will get low level features from our resnet model\n",
        "  x_b=base_model.get_layer('conv2_block2_out').output\n",
        "  x_b=Conv2D(filters=48,kernel_size=1,padding='same',use_bias=False)(x_b)\n",
        "  x_b=BatchNormalization()(x_b)\n",
        "  x_b=Activation(activation='relu')(x_b)\n",
        "  #Now we will concatenate\n",
        "  x=Concatenate()([x_a,x_b])\n",
        "  print(x.shape)\n",
        "  #Now apply convolutional layer with 3*3 filter 2 times\n",
        "  x=Conv2D(filters=256,kernel_size=1,padding='same',use_bias=False)(x)\n",
        "  x=BatchNormalization()(x)\n",
        "  x=Activation(activation='relu')(x)\n",
        "\n",
        "  x=Conv2D(filters=256,kernel_size=1,padding='same',use_bias=False)(x)\n",
        "  x-BatchNormalization()(x)\n",
        "  x=Activation(activation='relu')(x)\n",
        "\n",
        "  x=UpSampling2D(size=(4,4),interpolation='bilinear')(x)\n",
        "  print(x.shape)\n",
        "  #outputs\n",
        "  x=Conv2D(1,(1,1),name='output_layer')(x)\n",
        "  x=Activation(activation='sigmoid')(x)\n",
        "  print(x.shape)\n",
        "  #Model\n",
        "  model=Model(inputs=input,outputs=x)\n",
        "  return model"
      ],
      "metadata": {
        "id": "S870ueOOuUGi"
      },
      "execution_count": 33,
      "outputs": []
    },
    {
      "cell_type": "code",
      "source": [
        "if __name__=='__main__':\n",
        "  shape=(128,128,3)\n",
        "  model=DeepLabv3plus(shape)\n",
        "  #model.summary()"
      ],
      "metadata": {
        "colab": {
          "base_uri": "https://localhost:8080/"
        },
        "id": "jYbEaSflvZzv",
        "outputId": "267312cf-b479-4590-8ec8-22f321253e55"
      },
      "execution_count": 35,
      "outputs": [
        {
          "output_type": "stream",
          "name": "stdout",
          "text": [
            "(None, 8, 8, 256)\n",
            "(None, 32, 32, 304)\n",
            "(None, 128, 128, 256)\n",
            "(None, 128, 128, 1)\n"
          ]
        }
      ]
    }
  ]
}